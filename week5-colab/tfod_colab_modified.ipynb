{
  "nbformat": 4,
  "nbformat_minor": 0,
  "metadata": {
    "colab": {
      "provenance": []
    },
    "kernelspec": {
      "name": "python3",
      "display_name": "Python 3"
    },
    "accelerator": "GPU"
  },
  "cells": [
    {
      "cell_type": "markdown",
      "metadata": {
        "id": "ISTtSYdo5oZ6"
      },
      "source": [
        "# Training your TFOD model using Colab\n",
        "\n",
        "In this notebook, we showed you how you can do limited training of your TFOD model using Colab (subject to GPU time-limit imposed by free Colab account). \n",
        "\n",
        "***WARNING*** \n",
        "It seems that Google Colab now will detect that you are running some long-running script on the linux instance and will block you from using the GPU in the future. \n",
        "Use this notebook at your own risk !! "
      ]
    },
    {
      "cell_type": "markdown",
      "metadata": {
        "id": "tPGkLrbHf4m8"
      },
      "source": [
        "### Mount your google drive & symlink it to `/drive`"
      ]
    },
    {
      "cell_type": "code",
      "metadata": {
        "id": "SAqwoVyIwoj0"
      },
      "source": [
        "from google.colab import drive\n",
        "drive.mount('/content/drive', force_remount=True)\n",
        "\n",
        "import time\n",
        "import datetime\n",
        "import sys\n",
        "\n",
        "!mkdir -p /drive\n",
        "!mount --bind /content/drive/My\\ Drive /drive\n",
        "!mkdir -p ~/.ssh\n",
        "\n",
        "get_ipython().system_raw(\"alias kill='f(){ kill -9 $(ps -x | grep '$@') ;  unset -f f; }; f'\")\n",
        "!alias kill='f(){ kill -9 $(ps -x | grep \"$@\") ;  unset -f f; }; f'"
      ],
      "execution_count": null,
      "outputs": []
    },
    {
      "cell_type": "markdown",
      "metadata": {
        "id": "nizrdjDtu20C"
      },
      "source": [
        "### Install Tensorflow object detection API\n",
        "\n",
        "We will clone the TFOD API from github and install it.\n"
      ]
    },
    {
      "cell_type": "code",
      "metadata": {
        "id": "qItWb6Yr0bqI"
      },
      "source": [
        "%cd /content/\n",
        "!git clone --depth 1 https://github.com/tensorflow/models"
      ],
      "execution_count": null,
      "outputs": []
    },
    {
      "cell_type": "code",
      "metadata": {
        "id": "rG0kVxYjvRQM"
      },
      "source": [
        "# Install the Object Detection API\n",
        "%%bash\n",
        "cd /content/models/research/\n",
        "protoc object_detection/protos/*.proto --python_out=.\n",
        "cp object_detection/packages/tf2/setup.py .\n",
        "python -m pip install ."
      ],
      "execution_count": null,
      "outputs": []
    },
    {
      "cell_type": "markdown",
      "metadata": {
        "id": "NaffzjId1Jku"
      },
      "source": [
        "### Training Object Detection model\n",
        "\n",
        "Make sure you have created the project folder (with all the necessary subfolders structure) in your google drive, e.g. `/drive/ballon_project`"
      ]
    },
    {
      "cell_type": "markdown",
      "source": [
        "### Copy repo files to drive"
      ],
      "metadata": {
        "id": "mEarDJo6DXN7"
      }
    },
    {
      "cell_type": "code",
      "source": [
        "%%bash \n",
        "cd /content\n",
        "git clone https://github.com/arifhamed/it3103-ari /content/git/it3103\n",
        "cp -r /content/git/it3103/week5-colab/balloon_project /content/drive/MyDrive/"
      ],
      "metadata": {
        "id": "OfLsgPN7De-l"
      },
      "execution_count": null,
      "outputs": []
    },
    {
      "cell_type": "markdown",
      "metadata": {
        "id": "8xhzIn-70Vlf"
      },
      "source": [
        "### Download dataset \n",
        "\n",
        "We download the dataset to /content folder and unzip in /content (which is temporary). We then copy the images and annotations to the project folder.\n",
        "Note: you only need to do this the 1st time. You can skip the following cell if you are resuming your training."
      ]
    },
    {
      "cell_type": "code",
      "metadata": {
        "id": "Bx1ZYxzWvZdB"
      },
      "source": [
        "%%bash\n",
        "cd /content\n",
        "wget https://nyp-aicourse.s3-ap-southeast-1.amazonaws.com/datasets/balloon_dataset_pascalvoc.zip -q\n",
        "unzip -q balloon_dataset_pascalvoc.zip -d /content/balloon_dataset\n",
        "cp  /content/balloon_dataset/*.jpg  /content/drive/MyDrive/balloon_project/data/images/\n",
        "cp /content/balloon_dataset/*.xml  /content/drive/MyDrive/balloon_project/data/annotations/\n",
        "rm -rf balloon_dataset"
      ],
      "execution_count": null,
      "outputs": []
    },
    {
      "cell_type": "markdown",
      "metadata": {
        "id": "vuUx4FsV2E3S"
      },
      "source": [
        "### Create the Label Map\n",
        "\n",
        "You only need to do this the 1st time. "
      ]
    },
    {
      "cell_type": "code",
      "metadata": {
        "id": "1Nsm_HaHw2j3"
      },
      "source": [
        "%%writefile /content/drive/MyDrive/balloon_project/data/label_map.pbtxt\n",
        "item {\n",
        "    id: 1\n",
        "    name: 'balloon'\n",
        "}"
      ],
      "execution_count": null,
      "outputs": []
    },
    {
      "cell_type": "markdown",
      "metadata": {
        "id": "R126sHt72hgG"
      },
      "source": [
        "### Create the TFRecords \n",
        "\n",
        "You only need to do this the 1st time."
      ]
    },
    {
      "cell_type": "code",
      "metadata": {
        "id": "dL8mcFj12Qdj"
      },
      "source": [
        "%%bash\n",
        "cd /content/drive/MyDrive/balloon_project/\n",
        "bash /content/drive/MyDrive/balloon_project/create_tf_voc.sh "
      ],
      "execution_count": null,
      "outputs": []
    },
    {
      "cell_type": "markdown",
      "metadata": {
        "id": "RJ3k-yjTyesT"
      },
      "source": [
        "### Download Pretrained Model\n",
        "\n",
        "You only need to do this the first time."
      ]
    },
    {
      "cell_type": "code",
      "metadata": {
        "id": "OnWk4kGfydnm"
      },
      "source": [
        "%%bash\n",
        "cd /content\n",
        "wget http://download.tensorflow.org/models/object_detection/tf2/20200711/ssd_mobilenet_v2_320x320_coco17_tpu-8.tar.gz\n",
        "mkdir -p /content/drive/MyDrive/balloon_project/pretrained_models/\n",
        "tar xzvf /content/ssd_mobilenet_v2_320x320_coco17_tpu-8.tar.gz -C /content/drive/MyDrive/balloon_project/pretrained_models/"
      ],
      "execution_count": null,
      "outputs": []
    },
    {
      "cell_type": "markdown",
      "metadata": {
        "id": "YFBOhH8k2_Yd"
      },
      "source": [
        "Copy the pipeline config file to your model experiment directory"
      ]
    },
    {
      "cell_type": "code",
      "metadata": {
        "id": "PygdPnIw4tKO"
      },
      "source": [
        "%%bash \n",
        "# create the target directory first \n",
        "mkdir -p /content/drive/MyDrive/balloon_project/models/ssd_mobilenet_v2_320x320_coco17_tpu-8/run1\n",
        "# copy the pipeline.config file to the target folder\n",
        "cp /content/drive/MyDrive/balloon_project/pretrained_models/ssd_mobilenet_v2_320x320_coco17_tpu-8/pipeline.config /content/drive/MyDrive/balloon_project/models/ssd_mobilenet_v2_320x320_coco17_tpu-8/run1/pipeline.config\n"
      ],
      "execution_count": null,
      "outputs": []
    },
    {
      "cell_type": "markdown",
      "metadata": {
        "id": "hMjReVb85G_G"
      },
      "source": [
        "### Configure your pipeline.config file \n",
        "\n",
        "Now double click the pipeline config file in `/drive/balloon_project/models/ssd_mobilenet_v2_320x320_coco17_tpu-8/run1/pipeline.config` to edit. \n",
        "\n",
        "You only need to do this the first time."
      ]
    },
    {
      "cell_type": "markdown",
      "metadata": {
        "id": "ranxkQuP3XgZ"
      },
      "source": [
        "### Start the training \n",
        "\n",
        "You can start or resume your training by running the train.sh. We pipe the error to train.log.  So please check the train.log to see what is the error if your train.sh is not running."
      ]
    },
    {
      "cell_type": "code",
      "metadata": {
        "id": "yFiQj1dG6VxJ"
      },
      "source": [
        "%cd /content/drive/MyDrive/balloon_project\n",
        "get_ipython().system_raw('bash train.sh 1>train.log 2>train_err.log &')"
      ],
      "execution_count": null,
      "outputs": []
    },
    {
      "cell_type": "code",
      "metadata": {
        "id": "l9d3FatipWnM"
      },
      "source": [
        "# make sure the process is running \n",
        "!ps aux | grep train.sh"
      ],
      "execution_count": null,
      "outputs": []
    },
    {
      "cell_type": "code",
      "metadata": {
        "id": "Vz8TGZdf6GJF"
      },
      "source": [
        "# You can do a tail of the log file here too by uncommenting the following line\n",
        "# !tail -f /content/drive/MyDrive/balloon_project/train.log\n",
        "get_ipython().system_raw('tail -f /content/drive/MyDrive/balloon_project/train.log &')"
      ],
      "execution_count": null,
      "outputs": []
    },
    {
      "cell_type": "markdown",
      "metadata": {
        "id": "sk1eP-EWxhua"
      },
      "source": [
        "### Start Evaluation\n",
        "\n",
        "Let's start our eval script. We pipe the error to eval.log. So check your eval.log if your script is not running. "
      ]
    },
    {
      "cell_type": "code",
      "metadata": {
        "id": "MfsiEmKgtN0I"
      },
      "source": [
        "%cd /content/drive/MyDrive/balloon_project\n",
        "get_ipython().system_raw('export CUDA_VISIBLE_DEVICES=\"-1\"')\n",
        "get_ipython().system_raw('bash eval.sh 1>eval.log 2>eval_err.log &')"
      ],
      "execution_count": null,
      "outputs": []
    },
    {
      "cell_type": "code",
      "metadata": {
        "id": "WdtR_BagxtTc"
      },
      "source": [
        "# make sure the process is running \n",
        "!ps aux | grep eval.sh"
      ],
      "execution_count": null,
      "outputs": []
    },
    {
      "cell_type": "markdown",
      "metadata": {
        "id": "9SZNge7-xvsn"
      },
      "source": [
        "### Visualize using Tensorboard\n"
      ]
    },
    {
      "cell_type": "code",
      "metadata": {
        "id": "-B9NfN-jtqW1"
      },
      "source": [
        "%reload_ext tensorboard\n",
        "%tensorboard --logdir /content/drive/MyDrive/balloon_project/models/ssd_mobilenet_v2_320x320_coco17_tpu-8/run1"
      ],
      "execution_count": null,
      "outputs": []
    },
    {
      "cell_type": "code",
      "source": [
        "# imma just let this wait for about 2 hours\n",
        "training_start = time.time()\n",
        "timecheck = 0\n",
        "while timecheck < 10800:\n",
        "  time.sleep(1)\n",
        "  sys.stdout.write(\"\\r\"+str(datetime.timedelta(seconds=time.time() - training_start)).split('.')[0])\n",
        "  sys.stdout.flush()"
      ],
      "metadata": {
        "id": "yHn7i1WZHAlD"
      },
      "execution_count": null,
      "outputs": []
    },
    {
      "cell_type": "markdown",
      "metadata": {
        "id": "R7K1tTIay813"
      },
      "source": [
        "### Stop training and evaluation\n",
        "\n",
        "To stop the training, find the process id of your eval.sh and train.sh and kill them. "
      ]
    },
    {
      "cell_type": "code",
      "metadata": {
        "id": "RgV0Fu_n1ylG"
      },
      "source": [
        "# !ps aux | grep -i train.sh | grep -v grep | awk '{print $2}' | xargs kill -9\n",
        "# !ps aux | grep -i eval.sh | grep -v grep | awk '{print $2}' | xargs kill -9\n",
        "get_ipython().system_raw('kill train.sh')\n",
        "get_ipython().system_raw('kill eval.sh')\n",
        "!kill train.sh\n",
        "!kill eval.sh"
      ],
      "execution_count": null,
      "outputs": []
    },
    {
      "cell_type": "markdown",
      "metadata": {
        "id": "IcTMZBBb5MSF"
      },
      "source": [
        "### Export your model\n"
      ]
    },
    {
      "cell_type": "code",
      "metadata": {
        "id": "OlXvSGdDx9J-"
      },
      "source": [
        "%cd /content/drive/MyDrive/balloon_project\n",
        "get_ipython().system_raw('bash export.sh 1>export.log 2>export_err.log &')"
      ],
      "execution_count": null,
      "outputs": []
    },
    {
      "cell_type": "code",
      "metadata": {
        "id": "ts2l2nyG5ta5"
      },
      "source": [],
      "execution_count": null,
      "outputs": []
    }
  ]
}